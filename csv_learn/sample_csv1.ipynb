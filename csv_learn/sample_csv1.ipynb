{
 "metadata": {
  "language_info": {
   "codemirror_mode": {
    "name": "ipython",
    "version": 3
   },
   "file_extension": ".py",
   "mimetype": "text/x-python",
   "name": "python",
   "nbconvert_exporter": "python",
   "pygments_lexer": "ipython3",
   "version": "3.9.0-final"
  },
  "orig_nbformat": 2,
  "kernelspec": {
   "name": "python3",
   "display_name": "Python 3.9.0 64-bit",
   "metadata": {
    "interpreter": {
     "hash": "ac59ebe37160ed0dfa835113d9b8498d9f09ceb179beaac4002f036b9467c963"
    }
   }
  }
 },
 "nbformat": 4,
 "nbformat_minor": 2,
 "cells": [
  {
   "cell_type": "code",
   "execution_count": 15,
   "metadata": {},
   "outputs": [],
   "source": [
    "import csv\n"
   ]
  },
  {
   "cell_type": "code",
   "execution_count": 16,
   "metadata": {},
   "outputs": [
    {
     "output_type": "stream",
     "name": "stdout",
     "text": [
      "<class 'list'> ['Month', ' \"1958\"', ' \"1959\"', ' \"1960\"']\n<class 'list'> ['JAN', '  340', '  360', '  417']\n<class 'list'> ['FEB', '  318', '  342', '  391']\n<class 'list'> ['MAR', '  362', '  406', '  419']\n<class 'list'> ['APR', '  348', '  396', '  461']\n<class 'list'> ['MAY', '  363', '  420', '  472']\n<class 'list'> ['JUN', '  435', '  472', '  535']\n<class 'list'> ['JUL', '  491', '  548', '  622']\n<class 'list'> ['AUG', '  505', '  559', '  606']\n<class 'list'> ['SEP', '  404', '  463', '  508']\n<class 'list'> ['OCT', '  359', '  407', '  461']\n<class 'list'> ['NOV', '  310', '  362', '  390']\n<class 'list'> ['DEC', '  337', '  405', '  432']\n"
     ]
    }
   ],
   "source": [
    "with open('airtravel.csv', 'r') as travels_file:\n",
    "    travels_dreader = csv.DictReader(travels_file)\n",
    "    travels_reader = csv.reader(travels_file)\n",
    "    # print()\n",
    "    for row in travels_reader:\n",
    "        print(type(row), row)\n",
    "    # print()\n",
    "    for row in travels_dreader:\n",
    "        print(type(row), row)"
   ]
  },
  {
   "cell_type": "code",
   "execution_count": null,
   "metadata": {},
   "outputs": [],
   "source": []
  }
 ]
}